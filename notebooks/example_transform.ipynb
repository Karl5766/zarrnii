{
 "cells": [
  {
   "cell_type": "markdown",
   "id": "5a2ec6be-872f-43e8-b58a-1b1052f01f29",
   "metadata": {},
   "source": [
    "# Example - Loading and transforming data\n",
    "\n",
    "In this example we have a lightsheet dataset in OME-Zarr format, along with an atlas (ABAv3) in NIFTI. We have processed the dataset in SPIMquant to obtain NIFTI warps between these, and in this example we show how we can use the warps to transform microscopy data."
   ]
  },
  {
   "cell_type": "code",
   "execution_count": 1,
   "id": "4e5b494c-bbf4-487f-b7dd-4566f0905cc7",
   "metadata": {},
   "outputs": [
    {
     "data": {
      "text/html": [
       "<div>\n",
       "    <div style=\"width: 24px; height: 24px; background-color: #e1e1e1; border: 3px solid #9D9D9D; border-radius: 5px; position: absolute;\"> </div>\n",
       "    <div style=\"margin-left: 48px;\">\n",
       "        <h3 style=\"margin-bottom: 0px;\">Client</h3>\n",
       "        <p style=\"color: #9D9D9D; margin-bottom: 0px;\">Client-0b515394-1d24-11ef-8b2b-3f6ce239c57a</p>\n",
       "        <table style=\"width: 100%; text-align: left;\">\n",
       "\n",
       "        <tr>\n",
       "        \n",
       "            <td style=\"text-align: left;\"><strong>Connection method:</strong> Cluster object</td>\n",
       "            <td style=\"text-align: left;\"><strong>Cluster type:</strong> distributed.LocalCluster</td>\n",
       "        \n",
       "        </tr>\n",
       "\n",
       "        \n",
       "            <tr>\n",
       "                <td style=\"text-align: left;\">\n",
       "                    <strong>Dashboard: </strong> <a href=\"http://172.31.118.68:8787/status\" target=\"_blank\">http://172.31.118.68:8787/status</a>\n",
       "                </td>\n",
       "                <td style=\"text-align: left;\"></td>\n",
       "            </tr>\n",
       "        \n",
       "\n",
       "        </table>\n",
       "\n",
       "        \n",
       "\n",
       "        \n",
       "            <details>\n",
       "            <summary style=\"margin-bottom: 20px;\"><h3 style=\"display: inline;\">Cluster Info</h3></summary>\n",
       "            <div class=\"jp-RenderedHTMLCommon jp-RenderedHTML jp-mod-trusted jp-OutputArea-output\">\n",
       "    <div style=\"width: 24px; height: 24px; background-color: #e1e1e1; border: 3px solid #9D9D9D; border-radius: 5px; position: absolute;\">\n",
       "    </div>\n",
       "    <div style=\"margin-left: 48px;\">\n",
       "        <h3 style=\"margin-bottom: 0px; margin-top: 0px;\">LocalCluster</h3>\n",
       "        <p style=\"color: #9D9D9D; margin-bottom: 0px;\">0fe965ae</p>\n",
       "        <table style=\"width: 100%; text-align: left;\">\n",
       "            <tr>\n",
       "                <td style=\"text-align: left;\">\n",
       "                    <strong>Dashboard:</strong> <a href=\"http://172.31.118.68:8787/status\" target=\"_blank\">http://172.31.118.68:8787/status</a>\n",
       "                </td>\n",
       "                <td style=\"text-align: left;\">\n",
       "                    <strong>Workers:</strong> 1\n",
       "                </td>\n",
       "            </tr>\n",
       "            <tr>\n",
       "                <td style=\"text-align: left;\">\n",
       "                    <strong>Total threads:</strong> 12\n",
       "                </td>\n",
       "                <td style=\"text-align: left;\">\n",
       "                    <strong>Total memory:</strong> 47.05 GiB\n",
       "                </td>\n",
       "            </tr>\n",
       "            \n",
       "            <tr>\n",
       "    <td style=\"text-align: left;\"><strong>Status:</strong> running</td>\n",
       "    <td style=\"text-align: left;\"><strong>Using processes:</strong> False</td>\n",
       "</tr>\n",
       "\n",
       "            \n",
       "        </table>\n",
       "\n",
       "        <details>\n",
       "            <summary style=\"margin-bottom: 20px;\">\n",
       "                <h3 style=\"display: inline;\">Scheduler Info</h3>\n",
       "            </summary>\n",
       "\n",
       "            <div style=\"\">\n",
       "    <div>\n",
       "        <div style=\"width: 24px; height: 24px; background-color: #FFF7E5; border: 3px solid #FF6132; border-radius: 5px; position: absolute;\"> </div>\n",
       "        <div style=\"margin-left: 48px;\">\n",
       "            <h3 style=\"margin-bottom: 0px;\">Scheduler</h3>\n",
       "            <p style=\"color: #9D9D9D; margin-bottom: 0px;\">Scheduler-d8264d51-4c16-4ee8-b01b-f761a540c76e</p>\n",
       "            <table style=\"width: 100%; text-align: left;\">\n",
       "                <tr>\n",
       "                    <td style=\"text-align: left;\">\n",
       "                        <strong>Comm:</strong> inproc://172.31.118.68/150315/1\n",
       "                    </td>\n",
       "                    <td style=\"text-align: left;\">\n",
       "                        <strong>Workers:</strong> 1\n",
       "                    </td>\n",
       "                </tr>\n",
       "                <tr>\n",
       "                    <td style=\"text-align: left;\">\n",
       "                        <strong>Dashboard:</strong> <a href=\"http://172.31.118.68:8787/status\" target=\"_blank\">http://172.31.118.68:8787/status</a>\n",
       "                    </td>\n",
       "                    <td style=\"text-align: left;\">\n",
       "                        <strong>Total threads:</strong> 12\n",
       "                    </td>\n",
       "                </tr>\n",
       "                <tr>\n",
       "                    <td style=\"text-align: left;\">\n",
       "                        <strong>Started:</strong> Just now\n",
       "                    </td>\n",
       "                    <td style=\"text-align: left;\">\n",
       "                        <strong>Total memory:</strong> 47.05 GiB\n",
       "                    </td>\n",
       "                </tr>\n",
       "            </table>\n",
       "        </div>\n",
       "    </div>\n",
       "\n",
       "    <details style=\"margin-left: 48px;\">\n",
       "        <summary style=\"margin-bottom: 20px;\">\n",
       "            <h3 style=\"display: inline;\">Workers</h3>\n",
       "        </summary>\n",
       "\n",
       "        \n",
       "        <div style=\"margin-bottom: 20px;\">\n",
       "            <div style=\"width: 24px; height: 24px; background-color: #DBF5FF; border: 3px solid #4CC9FF; border-radius: 5px; position: absolute;\"> </div>\n",
       "            <div style=\"margin-left: 48px;\">\n",
       "            <details>\n",
       "                <summary>\n",
       "                    <h4 style=\"margin-bottom: 0px; display: inline;\">Worker: 0</h4>\n",
       "                </summary>\n",
       "                <table style=\"width: 100%; text-align: left;\">\n",
       "                    <tr>\n",
       "                        <td style=\"text-align: left;\">\n",
       "                            <strong>Comm: </strong> inproc://172.31.118.68/150315/4\n",
       "                        </td>\n",
       "                        <td style=\"text-align: left;\">\n",
       "                            <strong>Total threads: </strong> 12\n",
       "                        </td>\n",
       "                    </tr>\n",
       "                    <tr>\n",
       "                        <td style=\"text-align: left;\">\n",
       "                            <strong>Dashboard: </strong> <a href=\"http://172.31.118.68:43079/status\" target=\"_blank\">http://172.31.118.68:43079/status</a>\n",
       "                        </td>\n",
       "                        <td style=\"text-align: left;\">\n",
       "                            <strong>Memory: </strong> 47.05 GiB\n",
       "                        </td>\n",
       "                    </tr>\n",
       "                    <tr>\n",
       "                        <td style=\"text-align: left;\">\n",
       "                            <strong>Nanny: </strong> None\n",
       "                        </td>\n",
       "                        <td style=\"text-align: left;\"></td>\n",
       "                    </tr>\n",
       "                    <tr>\n",
       "                        <td colspan=\"2\" style=\"text-align: left;\">\n",
       "                            <strong>Local directory: </strong> /tmp/dask-scratch-space/worker-ywg_4ey0\n",
       "                        </td>\n",
       "                    </tr>\n",
       "\n",
       "                    \n",
       "\n",
       "                    \n",
       "\n",
       "                </table>\n",
       "            </details>\n",
       "            </div>\n",
       "        </div>\n",
       "        \n",
       "\n",
       "    </details>\n",
       "</div>\n",
       "\n",
       "        </details>\n",
       "    </div>\n",
       "</div>\n",
       "            </details>\n",
       "        \n",
       "\n",
       "    </div>\n",
       "</div>"
      ],
      "text/plain": [
       "<Client: 'inproc://172.31.118.68/150315/1' processes=1 threads=12, memory=47.05 GiB>"
      ]
     },
     "execution_count": 1,
     "metadata": {},
     "output_type": "execute_result"
    }
   ],
   "source": [
    "from dask.distributed import Client\n",
    "client = Client(processes=False)  # start distributed scheduler locally\n",
    "client # this provides link to the Dask dashboard"
   ]
  },
  {
   "cell_type": "markdown",
   "id": "83edd9c1-7ae1-4ea4-ac00-bc01d0917b05",
   "metadata": {},
   "source": [
    "## ZarrNii class\n",
    "\n",
    "The `ZarrNii` class represents both OME-Zarr and NIFTI data, and we can load existing datasets using `.from_path()`. Note we can use the same function for both OME-Zarr and NIFTI datasets."
   ]
  },
  {
   "cell_type": "code",
   "execution_count": 2,
   "id": "9aa92a27-ffe6-4f3b-9c87-05fc38cf281c",
   "metadata": {},
   "outputs": [
    {
     "name": "stdout",
     "output_type": "stream",
     "text": [
      "{'scale': [1, 0.004, 0.0018, 0.0018], 'type': 'scale'}\n",
      "{'scale': [1, 0.004, 0.0018, 0.0018], 'type': 'scale'}\n"
     ]
    }
   ],
   "source": [
    "from zarrnii import ZarrNii\n",
    "\n",
    "znimg = ZarrNii.from_path('/cifs/prado/Kate/AK_Pipeline_LSM/spimprep/bids/sub-o28/micr/sub-o28_sample-brain_acq-prestitched_SPIM.ome.zarr',level=0)\n",
    "znseg = ZarrNii.from_path('/local/SPIMquant_oznbranch/spimquant/results/tpl-ABAv3/tpl-ABAv3_desc-LR_dseg.nii.gz')\n",
    "                             "
   ]
  },
  {
   "cell_type": "markdown",
   "id": "f676bdf4-ba8f-4cab-8fd0-0194b0c2e1b6",
   "metadata": {},
   "source": [
    "### Taking a look under the hood of a ZarrNii instance\n",
    "\n",
    "Inspecting the instances, we see that each one contains `vox2ras` and `ras2vox` transformations, as `Transform` objects, along with a `dask.array`, `darr`, which contains the chunked data.\n"
   ]
  },
  {
   "cell_type": "code",
   "execution_count": 3,
   "id": "a81c685b-b293-46c8-b923-254d9ee2d791",
   "metadata": {},
   "outputs": [
    {
     "data": {
      "text/plain": [
       "ZarrNii(darr=dask.array<getitem, shape=(1, 2212, 11732, 7439), dtype=uint16, chunksize=(1, 1, 4096, 4096), chunktype=numpy.ndarray>, ras2vox=Transform(tfm_type=<TransformType.AFFINE_RAS: 1>, affine=array([[  -0.        ,   -0.        , -250.        ,   -0.        ],\n",
       "       [  -0.        , -555.55555556,   -0.        ,   -0.        ],\n",
       "       [-555.55555556,   -0.        ,   -0.        ,   -0.        ],\n",
       "       [   0.        ,    0.        ,    0.        ,    1.        ]]), disp_xyz=None, disp_grid=None, disp_ras2vox=None), vox2ras=Transform(tfm_type=<TransformType.AFFINE_RAS: 1>, affine=array([[ 0.    ,  0.    , -0.0018,  0.    ],\n",
       "       [ 0.    , -0.0018,  0.    ,  0.    ],\n",
       "       [-0.004 ,  0.    ,  0.    ,  0.    ],\n",
       "       [ 0.    ,  0.    ,  0.    ,  1.    ]]), disp_xyz=None, disp_grid=None, disp_ras2vox=None), axes_nifti=False)"
      ]
     },
     "execution_count": 3,
     "metadata": {},
     "output_type": "execute_result"
    }
   ],
   "source": [
    "znimg"
   ]
  },
  {
   "cell_type": "code",
   "execution_count": 4,
   "id": "7528923f-d509-43c9-9074-4585460629bc",
   "metadata": {},
   "outputs": [
    {
     "data": {
      "text/plain": [
       "ZarrNii(darr=dask.array<array, shape=(1, 456, 528, 320), dtype=float64, chunksize=(1, 255, 255, 255), chunktype=numpy.ndarray>, ras2vox=Transform(tfm_type=<TransformType.AFFINE_RAS: 1>, affine=array([[ 39.9999994 ,   0.        ,   0.        , 227.99998897],\n",
       "       [  0.        ,  39.9999994 ,   0.        , 312.99998771],\n",
       "       [  0.        ,   0.        ,  39.9999994 , 113.00000022],\n",
       "       [  0.        ,   0.        ,   0.        ,   1.        ]]), disp_xyz=None, disp_grid=None, disp_ras2vox=None), vox2ras=Transform(tfm_type=<TransformType.AFFINE_RAS: 1>, affine=array([[ 0.025     ,  0.        ,  0.        , -5.69999981],\n",
       "       [ 0.        ,  0.025     ,  0.        , -7.82499981],\n",
       "       [ 0.        ,  0.        ,  0.025     , -2.82500005],\n",
       "       [ 0.        ,  0.        ,  0.        ,  1.        ]]), disp_xyz=None, disp_grid=None, disp_ras2vox=None), axes_nifti=True)"
      ]
     },
     "execution_count": 4,
     "metadata": {},
     "output_type": "execute_result"
    }
   ],
   "source": [
    "znseg"
   ]
  },
  {
   "cell_type": "markdown",
   "id": "dd464e44-a225-4f25-8b5a-81d77bb368a4",
   "metadata": {},
   "source": [
    "The OME-Zarr datasets are ordered by CZYX axes, whereas the NIFTI are ordered by CXYZ. The axis ordering is indicated by the `axes_nifti` attribute. The `vox2ras` for a NIFTI dataset is simply the `affine` you would obtain from `nibabel`. For an OME-Zarr dataset, this `vox2ras` transformation also includes a reordering from ZYX to XYZ, so that the **RAS** space we use is identical for both."
   ]
  },
  {
   "cell_type": "markdown",
   "id": "71cf543e-ec7d-4d06-9fa4-393ac86fa824",
   "metadata": {},
   "source": [
    "#### Dask arrays\n",
    "\n",
    "The Dask arrays are nicely visualized by Dask:"
   ]
  },
  {
   "cell_type": "code",
   "execution_count": 5,
   "id": "2920e5a8-3f6f-4b7a-801f-5d0ae1bd3c95",
   "metadata": {},
   "outputs": [
    {
     "data": {
      "text/html": [
       "<table>\n",
       "    <tr>\n",
       "        <td>\n",
       "            <table style=\"border-collapse: collapse;\">\n",
       "                <thead>\n",
       "                    <tr>\n",
       "                        <td> </td>\n",
       "                        <th> Array </th>\n",
       "                        <th> Chunk </th>\n",
       "                    </tr>\n",
       "                </thead>\n",
       "                <tbody>\n",
       "                    \n",
       "                    <tr>\n",
       "                        <th> Bytes </th>\n",
       "                        <td> 359.59 GiB </td>\n",
       "                        <td> 32.00 MiB </td>\n",
       "                    </tr>\n",
       "                    \n",
       "                    <tr>\n",
       "                        <th> Shape </th>\n",
       "                        <td> (1, 2212, 11732, 7439) </td>\n",
       "                        <td> (1, 1, 4096, 4096) </td>\n",
       "                    </tr>\n",
       "                    <tr>\n",
       "                        <th> Dask graph </th>\n",
       "                        <td colspan=\"2\"> 13272 chunks in 3 graph layers </td>\n",
       "                    </tr>\n",
       "                    <tr>\n",
       "                        <th> Data type </th>\n",
       "                        <td colspan=\"2\"> uint16 numpy.ndarray </td>\n",
       "                    </tr>\n",
       "                </tbody>\n",
       "            </table>\n",
       "        </td>\n",
       "        <td>\n",
       "        <svg width=\"340\" height=\"194\" style=\"stroke:rgb(0,0,0);stroke-width:1\" >\n",
       "\n",
       "  <!-- Horizontal lines -->\n",
       "  <line x1=\"0\" y1=\"0\" x2=\"25\" y2=\"0\" style=\"stroke-width:2\" />\n",
       "  <line x1=\"0\" y1=\"25\" x2=\"25\" y2=\"25\" style=\"stroke-width:2\" />\n",
       "\n",
       "  <!-- Vertical lines -->\n",
       "  <line x1=\"0\" y1=\"0\" x2=\"0\" y2=\"25\" style=\"stroke-width:2\" />\n",
       "  <line x1=\"25\" y1=\"0\" x2=\"25\" y2=\"25\" style=\"stroke-width:2\" />\n",
       "\n",
       "  <!-- Colored Rectangle -->\n",
       "  <polygon points=\"0.0,0.0 25.412616514582485,0.0 25.412616514582485,25.412616514582485 0.0,25.412616514582485\" style=\"fill:#ECB172A0;stroke-width:0\"/>\n",
       "\n",
       "  <!-- Text -->\n",
       "  <text x=\"12.706308\" y=\"45.412617\" font-size=\"1.0rem\" font-weight=\"100\" text-anchor=\"middle\" >1</text>\n",
       "  <text x=\"45.412617\" y=\"12.706308\" font-size=\"1.0rem\" font-weight=\"100\" text-anchor=\"middle\" transform=\"rotate(0,45.412617,12.706308)\">1</text>\n",
       "\n",
       "\n",
       "  <!-- Horizontal lines -->\n",
       "  <line x1=\"95\" y1=\"0\" x2=\"119\" y2=\"24\" style=\"stroke-width:2\" />\n",
       "  <line x1=\"95\" y1=\"41\" x2=\"119\" y2=\"66\" />\n",
       "  <line x1=\"95\" y1=\"83\" x2=\"119\" y2=\"108\" />\n",
       "  <line x1=\"95\" y1=\"120\" x2=\"119\" y2=\"144\" style=\"stroke-width:2\" />\n",
       "\n",
       "  <!-- Vertical lines -->\n",
       "  <line x1=\"95\" y1=\"0\" x2=\"95\" y2=\"120\" style=\"stroke-width:2\" />\n",
       "  <line x1=\"95\" y1=\"0\" x2=\"95\" y2=\"120\" />\n",
       "  <line x1=\"96\" y1=\"1\" x2=\"96\" y2=\"121\" />\n",
       "  <line x1=\"97\" y1=\"2\" x2=\"97\" y2=\"122\" />\n",
       "  <line x1=\"98\" y1=\"3\" x2=\"98\" y2=\"123\" />\n",
       "  <line x1=\"98\" y1=\"3\" x2=\"98\" y2=\"123\" />\n",
       "  <line x1=\"99\" y1=\"4\" x2=\"99\" y2=\"124\" />\n",
       "  <line x1=\"100\" y1=\"5\" x2=\"100\" y2=\"125\" />\n",
       "  <line x1=\"101\" y1=\"6\" x2=\"101\" y2=\"126\" />\n",
       "  <line x1=\"101\" y1=\"6\" x2=\"101\" y2=\"126\" />\n",
       "  <line x1=\"102\" y1=\"7\" x2=\"102\" y2=\"127\" />\n",
       "  <line x1=\"103\" y1=\"8\" x2=\"103\" y2=\"128\" />\n",
       "  <line x1=\"104\" y1=\"9\" x2=\"104\" y2=\"129\" />\n",
       "  <line x1=\"104\" y1=\"9\" x2=\"104\" y2=\"129\" />\n",
       "  <line x1=\"105\" y1=\"10\" x2=\"105\" y2=\"130\" />\n",
       "  <line x1=\"106\" y1=\"11\" x2=\"106\" y2=\"131\" />\n",
       "  <line x1=\"107\" y1=\"12\" x2=\"107\" y2=\"132\" />\n",
       "  <line x1=\"108\" y1=\"13\" x2=\"108\" y2=\"133\" />\n",
       "  <line x1=\"108\" y1=\"13\" x2=\"108\" y2=\"133\" />\n",
       "  <line x1=\"109\" y1=\"14\" x2=\"109\" y2=\"134\" />\n",
       "  <line x1=\"110\" y1=\"15\" x2=\"110\" y2=\"135\" />\n",
       "  <line x1=\"111\" y1=\"16\" x2=\"111\" y2=\"136\" />\n",
       "  <line x1=\"111\" y1=\"16\" x2=\"111\" y2=\"136\" />\n",
       "  <line x1=\"112\" y1=\"17\" x2=\"112\" y2=\"137\" />\n",
       "  <line x1=\"113\" y1=\"18\" x2=\"113\" y2=\"138\" />\n",
       "  <line x1=\"114\" y1=\"19\" x2=\"114\" y2=\"139\" />\n",
       "  <line x1=\"114\" y1=\"19\" x2=\"114\" y2=\"139\" />\n",
       "  <line x1=\"115\" y1=\"20\" x2=\"115\" y2=\"140\" />\n",
       "  <line x1=\"116\" y1=\"21\" x2=\"116\" y2=\"141\" />\n",
       "  <line x1=\"117\" y1=\"22\" x2=\"117\" y2=\"142\" />\n",
       "  <line x1=\"118\" y1=\"23\" x2=\"118\" y2=\"143\" />\n",
       "  <line x1=\"118\" y1=\"23\" x2=\"118\" y2=\"143\" />\n",
       "  <line x1=\"119\" y1=\"24\" x2=\"119\" y2=\"144\" style=\"stroke-width:2\" />\n",
       "\n",
       "  <!-- Colored Rectangle -->\n",
       "  <polygon points=\"95.0,0.0 119.56286001645103,24.56286001645103 119.56286001645103,144.56286001645103 95.0,120.0\" style=\"fill:#8B4903A0;stroke-width:0\"/>\n",
       "\n",
       "  <!-- Horizontal lines -->\n",
       "  <line x1=\"95\" y1=\"0\" x2=\"171\" y2=\"0\" style=\"stroke-width:2\" />\n",
       "  <line x1=\"95\" y1=\"0\" x2=\"171\" y2=\"0\" />\n",
       "  <line x1=\"96\" y1=\"1\" x2=\"172\" y2=\"1\" />\n",
       "  <line x1=\"97\" y1=\"2\" x2=\"173\" y2=\"2\" />\n",
       "  <line x1=\"98\" y1=\"3\" x2=\"174\" y2=\"3\" />\n",
       "  <line x1=\"98\" y1=\"3\" x2=\"174\" y2=\"3\" />\n",
       "  <line x1=\"99\" y1=\"4\" x2=\"175\" y2=\"4\" />\n",
       "  <line x1=\"100\" y1=\"5\" x2=\"176\" y2=\"5\" />\n",
       "  <line x1=\"101\" y1=\"6\" x2=\"177\" y2=\"6\" />\n",
       "  <line x1=\"101\" y1=\"6\" x2=\"177\" y2=\"6\" />\n",
       "  <line x1=\"102\" y1=\"7\" x2=\"178\" y2=\"7\" />\n",
       "  <line x1=\"103\" y1=\"8\" x2=\"179\" y2=\"8\" />\n",
       "  <line x1=\"104\" y1=\"9\" x2=\"180\" y2=\"9\" />\n",
       "  <line x1=\"104\" y1=\"9\" x2=\"181\" y2=\"9\" />\n",
       "  <line x1=\"105\" y1=\"10\" x2=\"181\" y2=\"10\" />\n",
       "  <line x1=\"106\" y1=\"11\" x2=\"182\" y2=\"11\" />\n",
       "  <line x1=\"107\" y1=\"12\" x2=\"183\" y2=\"12\" />\n",
       "  <line x1=\"108\" y1=\"13\" x2=\"184\" y2=\"13\" />\n",
       "  <line x1=\"108\" y1=\"13\" x2=\"184\" y2=\"13\" />\n",
       "  <line x1=\"109\" y1=\"14\" x2=\"185\" y2=\"14\" />\n",
       "  <line x1=\"110\" y1=\"15\" x2=\"186\" y2=\"15\" />\n",
       "  <line x1=\"111\" y1=\"16\" x2=\"187\" y2=\"16\" />\n",
       "  <line x1=\"111\" y1=\"16\" x2=\"187\" y2=\"16\" />\n",
       "  <line x1=\"112\" y1=\"17\" x2=\"188\" y2=\"17\" />\n",
       "  <line x1=\"113\" y1=\"18\" x2=\"189\" y2=\"18\" />\n",
       "  <line x1=\"114\" y1=\"19\" x2=\"190\" y2=\"19\" />\n",
       "  <line x1=\"114\" y1=\"19\" x2=\"191\" y2=\"19\" />\n",
       "  <line x1=\"115\" y1=\"20\" x2=\"191\" y2=\"20\" />\n",
       "  <line x1=\"116\" y1=\"21\" x2=\"192\" y2=\"21\" />\n",
       "  <line x1=\"117\" y1=\"22\" x2=\"193\" y2=\"22\" />\n",
       "  <line x1=\"118\" y1=\"23\" x2=\"194\" y2=\"23\" />\n",
       "  <line x1=\"118\" y1=\"23\" x2=\"194\" y2=\"23\" />\n",
       "  <line x1=\"119\" y1=\"24\" x2=\"195\" y2=\"24\" style=\"stroke-width:2\" />\n",
       "\n",
       "  <!-- Vertical lines -->\n",
       "  <line x1=\"95\" y1=\"0\" x2=\"119\" y2=\"24\" style=\"stroke-width:2\" />\n",
       "  <line x1=\"136\" y1=\"0\" x2=\"161\" y2=\"24\" />\n",
       "  <line x1=\"171\" y1=\"0\" x2=\"195\" y2=\"24\" style=\"stroke-width:2\" />\n",
       "\n",
       "  <!-- Colored Rectangle -->\n",
       "  <polygon points=\"95.0,0.0 171.0893283327651,0.0 195.65218834921612,24.56286001645103 119.56286001645103,24.56286001645103\" style=\"fill:#8B4903A0;stroke-width:0\"/>\n",
       "\n",
       "  <!-- Horizontal lines -->\n",
       "  <line x1=\"119\" y1=\"24\" x2=\"195\" y2=\"24\" style=\"stroke-width:2\" />\n",
       "  <line x1=\"119\" y1=\"66\" x2=\"195\" y2=\"66\" />\n",
       "  <line x1=\"119\" y1=\"108\" x2=\"195\" y2=\"108\" />\n",
       "  <line x1=\"119\" y1=\"144\" x2=\"195\" y2=\"144\" style=\"stroke-width:2\" />\n",
       "\n",
       "  <!-- Vertical lines -->\n",
       "  <line x1=\"119\" y1=\"24\" x2=\"119\" y2=\"144\" style=\"stroke-width:2\" />\n",
       "  <line x1=\"161\" y1=\"24\" x2=\"161\" y2=\"144\" />\n",
       "  <line x1=\"195\" y1=\"24\" x2=\"195\" y2=\"144\" style=\"stroke-width:2\" />\n",
       "\n",
       "  <!-- Colored Rectangle -->\n",
       "  <polygon points=\"119.56286001645103,24.56286001645103 195.65218834921612,24.56286001645103 195.65218834921612,144.56286001645103 119.56286001645103,144.56286001645103\" style=\"fill:#ECB172A0;stroke-width:0\"/>\n",
       "\n",
       "  <!-- Text -->\n",
       "  <text x=\"157.607524\" y=\"164.562860\" font-size=\"1.0rem\" font-weight=\"100\" text-anchor=\"middle\" >7439</text>\n",
       "  <text x=\"215.652188\" y=\"84.562860\" font-size=\"1.0rem\" font-weight=\"100\" text-anchor=\"middle\" transform=\"rotate(-90,215.652188,84.562860)\">11732</text>\n",
       "  <text x=\"97.281430\" y=\"152.281430\" font-size=\"1.0rem\" font-weight=\"100\" text-anchor=\"middle\" transform=\"rotate(45,97.281430,152.281430)\">2212</text>\n",
       "</svg>\n",
       "        </td>\n",
       "    </tr>\n",
       "</table>"
      ],
      "text/plain": [
       "dask.array<getitem, shape=(1, 2212, 11732, 7439), dtype=uint16, chunksize=(1, 1, 4096, 4096), chunktype=numpy.ndarray>"
      ]
     },
     "execution_count": 5,
     "metadata": {},
     "output_type": "execute_result"
    }
   ],
   "source": [
    "znimg.darr"
   ]
  },
  {
   "cell_type": "code",
   "execution_count": 6,
   "id": "1a9b9cec-f2b9-4dcc-bd98-e41a97c89d2b",
   "metadata": {},
   "outputs": [
    {
     "data": {
      "text/html": [
       "<table>\n",
       "    <tr>\n",
       "        <td>\n",
       "            <table style=\"border-collapse: collapse;\">\n",
       "                <thead>\n",
       "                    <tr>\n",
       "                        <td> </td>\n",
       "                        <th> Array </th>\n",
       "                        <th> Chunk </th>\n",
       "                    </tr>\n",
       "                </thead>\n",
       "                <tbody>\n",
       "                    \n",
       "                    <tr>\n",
       "                        <th> Bytes </th>\n",
       "                        <td> 587.81 MiB </td>\n",
       "                        <td> 126.51 MiB </td>\n",
       "                    </tr>\n",
       "                    \n",
       "                    <tr>\n",
       "                        <th> Shape </th>\n",
       "                        <td> (1, 456, 528, 320) </td>\n",
       "                        <td> (1, 255, 255, 255) </td>\n",
       "                    </tr>\n",
       "                    <tr>\n",
       "                        <th> Dask graph </th>\n",
       "                        <td colspan=\"2\"> 12 chunks in 1 graph layer </td>\n",
       "                    </tr>\n",
       "                    <tr>\n",
       "                        <th> Data type </th>\n",
       "                        <td colspan=\"2\"> float64 numpy.ndarray </td>\n",
       "                    </tr>\n",
       "                </tbody>\n",
       "            </table>\n",
       "        </td>\n",
       "        <td>\n",
       "        <svg width=\"373\" height=\"230\" style=\"stroke:rgb(0,0,0);stroke-width:1\" >\n",
       "\n",
       "  <!-- Horizontal lines -->\n",
       "  <line x1=\"0\" y1=\"0\" x2=\"25\" y2=\"0\" style=\"stroke-width:2\" />\n",
       "  <line x1=\"0\" y1=\"25\" x2=\"25\" y2=\"25\" style=\"stroke-width:2\" />\n",
       "\n",
       "  <!-- Vertical lines -->\n",
       "  <line x1=\"0\" y1=\"0\" x2=\"0\" y2=\"25\" style=\"stroke-width:2\" />\n",
       "  <line x1=\"25\" y1=\"0\" x2=\"25\" y2=\"25\" style=\"stroke-width:2\" />\n",
       "\n",
       "  <!-- Colored Rectangle -->\n",
       "  <polygon points=\"0.0,0.0 25.412616514582485,0.0 25.412616514582485,25.412616514582485 0.0,25.412616514582485\" style=\"fill:#ECB172A0;stroke-width:0\"/>\n",
       "\n",
       "  <!-- Text -->\n",
       "  <text x=\"12.706308\" y=\"45.412617\" font-size=\"1.0rem\" font-weight=\"100\" text-anchor=\"middle\" >1</text>\n",
       "  <text x=\"45.412617\" y=\"12.706308\" font-size=\"1.0rem\" font-weight=\"100\" text-anchor=\"middle\" transform=\"rotate(0,45.412617,12.706308)\">1</text>\n",
       "\n",
       "\n",
       "  <!-- Horizontal lines -->\n",
       "  <line x1=\"95\" y1=\"0\" x2=\"155\" y2=\"60\" style=\"stroke-width:2\" />\n",
       "  <line x1=\"95\" y1=\"57\" x2=\"155\" y2=\"118\" />\n",
       "  <line x1=\"95\" y1=\"115\" x2=\"155\" y2=\"176\" />\n",
       "  <line x1=\"95\" y1=\"120\" x2=\"155\" y2=\"180\" style=\"stroke-width:2\" />\n",
       "\n",
       "  <!-- Vertical lines -->\n",
       "  <line x1=\"95\" y1=\"0\" x2=\"95\" y2=\"120\" style=\"stroke-width:2\" />\n",
       "  <line x1=\"129\" y1=\"34\" x2=\"129\" y2=\"154\" />\n",
       "  <line x1=\"155\" y1=\"60\" x2=\"155\" y2=\"180\" style=\"stroke-width:2\" />\n",
       "\n",
       "  <!-- Colored Rectangle -->\n",
       "  <polygon points=\"95.0,0.0 155.9625668449198,60.962566844919785 155.9625668449198,180.9625668449198 95.0,120.0\" style=\"fill:#ECB172A0;stroke-width:0\"/>\n",
       "\n",
       "  <!-- Horizontal lines -->\n",
       "  <line x1=\"95\" y1=\"0\" x2=\"167\" y2=\"0\" style=\"stroke-width:2\" />\n",
       "  <line x1=\"129\" y1=\"34\" x2=\"201\" y2=\"34\" />\n",
       "  <line x1=\"155\" y1=\"60\" x2=\"228\" y2=\"60\" style=\"stroke-width:2\" />\n",
       "\n",
       "  <!-- Vertical lines -->\n",
       "  <line x1=\"95\" y1=\"0\" x2=\"155\" y2=\"60\" style=\"stroke-width:2\" />\n",
       "  <line x1=\"152\" y1=\"0\" x2=\"213\" y2=\"60\" />\n",
       "  <line x1=\"167\" y1=\"0\" x2=\"228\" y2=\"60\" style=\"stroke-width:2\" />\n",
       "\n",
       "  <!-- Colored Rectangle -->\n",
       "  <polygon points=\"95.0,0.0 167.72727272727275,0.0 228.68983957219254,60.962566844919785 155.9625668449198,60.962566844919785\" style=\"fill:#ECB172A0;stroke-width:0\"/>\n",
       "\n",
       "  <!-- Horizontal lines -->\n",
       "  <line x1=\"155\" y1=\"60\" x2=\"228\" y2=\"60\" style=\"stroke-width:2\" />\n",
       "  <line x1=\"155\" y1=\"118\" x2=\"228\" y2=\"118\" />\n",
       "  <line x1=\"155\" y1=\"176\" x2=\"228\" y2=\"176\" />\n",
       "  <line x1=\"155\" y1=\"180\" x2=\"228\" y2=\"180\" style=\"stroke-width:2\" />\n",
       "\n",
       "  <!-- Vertical lines -->\n",
       "  <line x1=\"155\" y1=\"60\" x2=\"155\" y2=\"180\" style=\"stroke-width:2\" />\n",
       "  <line x1=\"213\" y1=\"60\" x2=\"213\" y2=\"180\" />\n",
       "  <line x1=\"228\" y1=\"60\" x2=\"228\" y2=\"180\" style=\"stroke-width:2\" />\n",
       "\n",
       "  <!-- Colored Rectangle -->\n",
       "  <polygon points=\"155.9625668449198,60.962566844919785 228.6898395721925,60.962566844919785 228.6898395721925,180.9625668449198 155.9625668449198,180.9625668449198\" style=\"fill:#ECB172A0;stroke-width:0\"/>\n",
       "\n",
       "  <!-- Text -->\n",
       "  <text x=\"192.326203\" y=\"200.962567\" font-size=\"1.0rem\" font-weight=\"100\" text-anchor=\"middle\" >320</text>\n",
       "  <text x=\"248.689840\" y=\"120.962567\" font-size=\"1.0rem\" font-weight=\"100\" text-anchor=\"middle\" transform=\"rotate(-90,248.689840,120.962567)\">528</text>\n",
       "  <text x=\"115.481283\" y=\"170.481283\" font-size=\"1.0rem\" font-weight=\"100\" text-anchor=\"middle\" transform=\"rotate(45,115.481283,170.481283)\">456</text>\n",
       "</svg>\n",
       "        </td>\n",
       "    </tr>\n",
       "</table>"
      ],
      "text/plain": [
       "dask.array<array, shape=(1, 456, 528, 320), dtype=float64, chunksize=(1, 255, 255, 255), chunktype=numpy.ndarray>"
      ]
     },
     "execution_count": 6,
     "metadata": {},
     "output_type": "execute_result"
    }
   ],
   "source": [
    "znseg.darr"
   ]
  },
  {
   "cell_type": "markdown",
   "id": "c2814132-36e6-4cc6-a755-240e85f44fae",
   "metadata": {},
   "source": [
    "Note, you can alter the chunk size when using the `from_path` function:"
   ]
  },
  {
   "cell_type": "code",
   "execution_count": 7,
   "id": "577cf68f-6281-4eef-a52d-d549581467f9",
   "metadata": {},
   "outputs": [
    {
     "name": "stdout",
     "output_type": "stream",
     "text": [
      "{'scale': [1, 0.004, 0.0018, 0.0018], 'type': 'scale'}\n",
      "{'scale': [1, 0.004, 0.0018, 0.0018], 'type': 'scale'}\n"
     ]
    },
    {
     "data": {
      "text/html": [
       "<table>\n",
       "    <tr>\n",
       "        <td>\n",
       "            <table style=\"border-collapse: collapse;\">\n",
       "                <thead>\n",
       "                    <tr>\n",
       "                        <td> </td>\n",
       "                        <th> Array </th>\n",
       "                        <th> Chunk </th>\n",
       "                    </tr>\n",
       "                </thead>\n",
       "                <tbody>\n",
       "                    \n",
       "                    <tr>\n",
       "                        <th> Bytes </th>\n",
       "                        <td> 359.59 GiB </td>\n",
       "                        <td> 1.86 GiB </td>\n",
       "                    </tr>\n",
       "                    \n",
       "                    <tr>\n",
       "                        <th> Shape </th>\n",
       "                        <td> (1, 2212, 11732, 7439) </td>\n",
       "                        <td> (1, 1000, 1000, 1000) </td>\n",
       "                    </tr>\n",
       "                    <tr>\n",
       "                        <th> Dask graph </th>\n",
       "                        <td colspan=\"2\"> 288 chunks in 5 graph layers </td>\n",
       "                    </tr>\n",
       "                    <tr>\n",
       "                        <th> Data type </th>\n",
       "                        <td colspan=\"2\"> uint16 numpy.ndarray </td>\n",
       "                    </tr>\n",
       "                </tbody>\n",
       "            </table>\n",
       "        </td>\n",
       "        <td>\n",
       "        <svg width=\"340\" height=\"194\" style=\"stroke:rgb(0,0,0);stroke-width:1\" >\n",
       "\n",
       "  <!-- Horizontal lines -->\n",
       "  <line x1=\"0\" y1=\"0\" x2=\"25\" y2=\"0\" style=\"stroke-width:2\" />\n",
       "  <line x1=\"0\" y1=\"25\" x2=\"25\" y2=\"25\" style=\"stroke-width:2\" />\n",
       "\n",
       "  <!-- Vertical lines -->\n",
       "  <line x1=\"0\" y1=\"0\" x2=\"0\" y2=\"25\" style=\"stroke-width:2\" />\n",
       "  <line x1=\"25\" y1=\"0\" x2=\"25\" y2=\"25\" style=\"stroke-width:2\" />\n",
       "\n",
       "  <!-- Colored Rectangle -->\n",
       "  <polygon points=\"0.0,0.0 25.412616514582485,0.0 25.412616514582485,25.412616514582485 0.0,25.412616514582485\" style=\"fill:#ECB172A0;stroke-width:0\"/>\n",
       "\n",
       "  <!-- Text -->\n",
       "  <text x=\"12.706308\" y=\"45.412617\" font-size=\"1.0rem\" font-weight=\"100\" text-anchor=\"middle\" >1</text>\n",
       "  <text x=\"45.412617\" y=\"12.706308\" font-size=\"1.0rem\" font-weight=\"100\" text-anchor=\"middle\" transform=\"rotate(0,45.412617,12.706308)\">1</text>\n",
       "\n",
       "\n",
       "  <!-- Horizontal lines -->\n",
       "  <line x1=\"95\" y1=\"0\" x2=\"119\" y2=\"24\" style=\"stroke-width:2\" />\n",
       "  <line x1=\"95\" y1=\"10\" x2=\"119\" y2=\"34\" />\n",
       "  <line x1=\"95\" y1=\"20\" x2=\"119\" y2=\"45\" />\n",
       "  <line x1=\"95\" y1=\"30\" x2=\"119\" y2=\"55\" />\n",
       "  <line x1=\"95\" y1=\"40\" x2=\"119\" y2=\"65\" />\n",
       "  <line x1=\"95\" y1=\"51\" x2=\"119\" y2=\"75\" />\n",
       "  <line x1=\"95\" y1=\"61\" x2=\"119\" y2=\"85\" />\n",
       "  <line x1=\"95\" y1=\"71\" x2=\"119\" y2=\"96\" />\n",
       "  <line x1=\"95\" y1=\"81\" x2=\"119\" y2=\"106\" />\n",
       "  <line x1=\"95\" y1=\"92\" x2=\"119\" y2=\"116\" />\n",
       "  <line x1=\"95\" y1=\"102\" x2=\"119\" y2=\"126\" />\n",
       "  <line x1=\"95\" y1=\"112\" x2=\"119\" y2=\"137\" />\n",
       "  <line x1=\"95\" y1=\"120\" x2=\"119\" y2=\"144\" style=\"stroke-width:2\" />\n",
       "\n",
       "  <!-- Vertical lines -->\n",
       "  <line x1=\"95\" y1=\"0\" x2=\"95\" y2=\"120\" style=\"stroke-width:2\" />\n",
       "  <line x1=\"106\" y1=\"11\" x2=\"106\" y2=\"131\" />\n",
       "  <line x1=\"117\" y1=\"22\" x2=\"117\" y2=\"142\" />\n",
       "  <line x1=\"119\" y1=\"24\" x2=\"119\" y2=\"144\" style=\"stroke-width:2\" />\n",
       "\n",
       "  <!-- Colored Rectangle -->\n",
       "  <polygon points=\"95.0,0.0 119.56286001645103,24.56286001645103 119.56286001645103,144.56286001645103 95.0,120.0\" style=\"fill:#ECB172A0;stroke-width:0\"/>\n",
       "\n",
       "  <!-- Horizontal lines -->\n",
       "  <line x1=\"95\" y1=\"0\" x2=\"171\" y2=\"0\" style=\"stroke-width:2\" />\n",
       "  <line x1=\"106\" y1=\"11\" x2=\"182\" y2=\"11\" />\n",
       "  <line x1=\"117\" y1=\"22\" x2=\"193\" y2=\"22\" />\n",
       "  <line x1=\"119\" y1=\"24\" x2=\"195\" y2=\"24\" style=\"stroke-width:2\" />\n",
       "\n",
       "  <!-- Vertical lines -->\n",
       "  <line x1=\"95\" y1=\"0\" x2=\"119\" y2=\"24\" style=\"stroke-width:2\" />\n",
       "  <line x1=\"105\" y1=\"0\" x2=\"129\" y2=\"24\" />\n",
       "  <line x1=\"115\" y1=\"0\" x2=\"140\" y2=\"24\" />\n",
       "  <line x1=\"125\" y1=\"0\" x2=\"150\" y2=\"24\" />\n",
       "  <line x1=\"135\" y1=\"0\" x2=\"160\" y2=\"24\" />\n",
       "  <line x1=\"146\" y1=\"0\" x2=\"170\" y2=\"24\" />\n",
       "  <line x1=\"156\" y1=\"0\" x2=\"180\" y2=\"24\" />\n",
       "  <line x1=\"166\" y1=\"0\" x2=\"191\" y2=\"24\" />\n",
       "  <line x1=\"171\" y1=\"0\" x2=\"195\" y2=\"24\" style=\"stroke-width:2\" />\n",
       "\n",
       "  <!-- Colored Rectangle -->\n",
       "  <polygon points=\"95.0,0.0 171.0893283327651,0.0 195.65218834921612,24.56286001645103 119.56286001645103,24.56286001645103\" style=\"fill:#ECB172A0;stroke-width:0\"/>\n",
       "\n",
       "  <!-- Horizontal lines -->\n",
       "  <line x1=\"119\" y1=\"24\" x2=\"195\" y2=\"24\" style=\"stroke-width:2\" />\n",
       "  <line x1=\"119\" y1=\"34\" x2=\"195\" y2=\"34\" />\n",
       "  <line x1=\"119\" y1=\"45\" x2=\"195\" y2=\"45\" />\n",
       "  <line x1=\"119\" y1=\"55\" x2=\"195\" y2=\"55\" />\n",
       "  <line x1=\"119\" y1=\"65\" x2=\"195\" y2=\"65\" />\n",
       "  <line x1=\"119\" y1=\"75\" x2=\"195\" y2=\"75\" />\n",
       "  <line x1=\"119\" y1=\"85\" x2=\"195\" y2=\"85\" />\n",
       "  <line x1=\"119\" y1=\"96\" x2=\"195\" y2=\"96\" />\n",
       "  <line x1=\"119\" y1=\"106\" x2=\"195\" y2=\"106\" />\n",
       "  <line x1=\"119\" y1=\"116\" x2=\"195\" y2=\"116\" />\n",
       "  <line x1=\"119\" y1=\"126\" x2=\"195\" y2=\"126\" />\n",
       "  <line x1=\"119\" y1=\"137\" x2=\"195\" y2=\"137\" />\n",
       "  <line x1=\"119\" y1=\"144\" x2=\"195\" y2=\"144\" style=\"stroke-width:2\" />\n",
       "\n",
       "  <!-- Vertical lines -->\n",
       "  <line x1=\"119\" y1=\"24\" x2=\"119\" y2=\"144\" style=\"stroke-width:2\" />\n",
       "  <line x1=\"129\" y1=\"24\" x2=\"129\" y2=\"144\" />\n",
       "  <line x1=\"140\" y1=\"24\" x2=\"140\" y2=\"144\" />\n",
       "  <line x1=\"150\" y1=\"24\" x2=\"150\" y2=\"144\" />\n",
       "  <line x1=\"160\" y1=\"24\" x2=\"160\" y2=\"144\" />\n",
       "  <line x1=\"170\" y1=\"24\" x2=\"170\" y2=\"144\" />\n",
       "  <line x1=\"180\" y1=\"24\" x2=\"180\" y2=\"144\" />\n",
       "  <line x1=\"191\" y1=\"24\" x2=\"191\" y2=\"144\" />\n",
       "  <line x1=\"195\" y1=\"24\" x2=\"195\" y2=\"144\" style=\"stroke-width:2\" />\n",
       "\n",
       "  <!-- Colored Rectangle -->\n",
       "  <polygon points=\"119.56286001645103,24.56286001645103 195.65218834921612,24.56286001645103 195.65218834921612,144.56286001645103 119.56286001645103,144.56286001645103\" style=\"fill:#ECB172A0;stroke-width:0\"/>\n",
       "\n",
       "  <!-- Text -->\n",
       "  <text x=\"157.607524\" y=\"164.562860\" font-size=\"1.0rem\" font-weight=\"100\" text-anchor=\"middle\" >7439</text>\n",
       "  <text x=\"215.652188\" y=\"84.562860\" font-size=\"1.0rem\" font-weight=\"100\" text-anchor=\"middle\" transform=\"rotate(-90,215.652188,84.562860)\">11732</text>\n",
       "  <text x=\"97.281430\" y=\"152.281430\" font-size=\"1.0rem\" font-weight=\"100\" text-anchor=\"middle\" transform=\"rotate(45,97.281430,152.281430)\">2212</text>\n",
       "</svg>\n",
       "        </td>\n",
       "    </tr>\n",
       "</table>"
      ],
      "text/plain": [
       "dask.array<rechunk-merge, shape=(1, 2212, 11732, 7439), dtype=uint16, chunksize=(1, 1000, 1000, 1000), chunktype=numpy.ndarray>"
      ]
     },
     "execution_count": 7,
     "metadata": {},
     "output_type": "execute_result"
    }
   ],
   "source": [
    "znimg_chunk1k = ZarrNii.from_path('/cifs/prado/Kate/AK_Pipeline_LSM/spimprep/bids/sub-o28/micr/sub-o28_sample-brain_acq-prestitched_SPIM.ome.zarr',\n",
    "                                  level=0, chunks=(1,1000,1000,1000), rechunk=True)\n",
    "znimg_chunk1k.darr\n"
   ]
  },
  {
   "cell_type": "markdown",
   "id": "b09f8a40-33e5-4b8c-8397-630f763bdc6d",
   "metadata": {},
   "source": [
    "## Extracting high-res microscopy subvolumes as NIFTI\n",
    "\n",
    "In this example, we'll use our atlas segmentation to obtain a bounding box around a label (in this case the dentate gyrus).\n"
   ]
  },
  {
   "cell_type": "code",
   "execution_count": 8,
   "id": "1eef57b2-8c82-466c-a0d3-d362a56745c4",
   "metadata": {},
   "outputs": [
    {
     "name": "stderr",
     "output_type": "stream",
     "text": [
      "/local/scratch/pypoetry_venv/zarrnii-bN9WqXf7-py3.9/lib/python3.9/site-packages/distributed/client.py:3166: UserWarning: Sending large graph of size 587.85 MiB.\n",
      "This may cause some slowdown.\n",
      "Consider scattering data ahead of time and using futures.\n",
      "  warnings.warn(\n",
      "/local/scratch/pypoetry_venv/zarrnii-bN9WqXf7-py3.9/lib/python3.9/site-packages/distributed/client.py:3166: UserWarning: Sending large graph of size 253.01 MiB.\n",
      "This may cause some slowdown.\n",
      "Consider scattering data ahead of time and using futures.\n",
      "  warnings.warn(\n"
     ]
    }
   ],
   "source": [
    "#here is an example of cropping using a label, and writing that out as a nifti\n",
    "\n",
    "#first we obtain the bounding box, knowing that the label 476 is the L Dentate Gyrus granule cell layer\n",
    "# then use to_nifti() to write to a file.\n",
    "padding=1\n",
    "(bbox_min,bbox_max) = znseg.get_bounding_box_around_label(476,ras_coords=True,padding=padding)\n",
    "(znseg.crop_with_bounding_box(bbox_min,bbox_max,ras_coords=True)\n",
    "        .to_nifti(f'cropped_seg_pad-{padding}.nii'))\n"
   ]
  },
  {
   "cell_type": "code",
   "execution_count": 9,
   "id": "47e50cf7-62c4-4bbb-ac18-4616182e385c",
   "metadata": {},
   "outputs": [],
   "source": [
    "# if we want e.g. to crop the same structure in the subject microscopy image, \n",
    "# we can either transform the image and use a cropped ref, or, we can transform the bounding box corners"
   ]
  },
  {
   "cell_type": "code",
   "execution_count": 10,
   "id": "e3c9eb10-a2a7-4f35-84f4-117ad379d63d",
   "metadata": {},
   "outputs": [
    {
     "ename": "SyntaxError",
     "evalue": "unexpected EOF while parsing (2325672928.py, line 2)",
     "output_type": "error",
     "traceback": [
      "\u001b[0;36m  Cell \u001b[0;32mIn[10], line 2\u001b[0;36m\u001b[0m\n\u001b[0;31m    znseg.apply_transform_flo_to_ref_indices(ref_dimg=znimg,\u001b[0m\n\u001b[0m                                                             ^\u001b[0m\n\u001b[0;31mSyntaxError\u001b[0m\u001b[0;31m:\u001b[0m unexpected EOF while parsing\n"
     ]
    }
   ],
   "source": [
    "# to do the latter, we can use:\n",
    "znseg.apply_transform_flo_to_ref_indices(ref_dimg=znimg, "
   ]
  },
  {
   "cell_type": "code",
   "execution_count": null,
   "id": "c8507b92-6a87-4724-bac7-4787b6003bd7",
   "metadata": {},
   "outputs": [],
   "source": [
    "#now crop the ref image:\n",
    "cropped_seg = znseg.crop_with_bounding_box(bbox_min,bbox_max,ras_coords=True)\n",
    "cropped_seg.darr"
   ]
  },
  {
   "cell_type": "code",
   "execution_count": null,
   "id": "4b3fad6a-01ac-47bb-94f7-dc247bb4e44e",
   "metadata": {},
   "outputs": [],
   "source": []
  },
  {
   "cell_type": "code",
   "execution_count": null,
   "id": "64434fee-baab-480d-9a90-e38eabcc10cc",
   "metadata": {},
   "outputs": [],
   "source": [
    "ref_cropped = znseg.crop_with_bounding_box(min_extent, max_extent)"
   ]
  },
  {
   "cell_type": "markdown",
   "id": "fe20a6d0-a351-44f2-bde7-a17f9270df51",
   "metadata": {},
   "source": [
    "Note now in the output the size has changed, along with the transforms.  Again, we haven't done any computing yet since crop is also **lazy**. "
   ]
  },
  {
   "cell_type": "code",
   "execution_count": null,
   "id": "54efbdb2-87e0-4aa0-a785-948769e870da",
   "metadata": {},
   "outputs": [],
   "source": [
    "ref_cropped"
   ]
  },
  {
   "cell_type": "code",
   "execution_count": null,
   "id": "a6e1a889-f7b3-4df8-9eb3-2b854c405c00",
   "metadata": {},
   "outputs": [],
   "source": [
    "ref_cropped.darr"
   ]
  },
  {
   "cell_type": "code",
   "execution_count": null,
   "id": "8fd54379-0263-434b-aac6-572f001b6b80",
   "metadata": {},
   "outputs": [],
   "source": [
    "#now let's crop a slice from the middle"
   ]
  },
  {
   "cell_type": "code",
   "execution_count": null,
   "id": "a6f42aff-ae2a-46d9-aa6c-b795daf880ef",
   "metadata": {},
   "outputs": [],
   "source": [
    "ref_slice = ref_cropped.crop_with_bounding_box([0,0,80],[128,118,81])\n",
    "ref_slice.darr"
   ]
  },
  {
   "cell_type": "code",
   "execution_count": null,
   "id": "fc55ba73-1c8f-4d18-83e6-fab207d0b7b0",
   "metadata": {},
   "outputs": [],
   "source": [
    "from zarrnii import Transform\n",
    "\n",
    "#let's reload the lightsheet data but from a downsampled level\n",
    "flo_znimg = ZarrNii.from_path('/cifs/prado/Kate/AK_Pipeline_LSM/spimprep/bids/sub-o28/micr/sub-o28_sample-brain_acq-prestitched_SPIM.ome.zarr',\n",
    "                                  level=4)\n",
    "resampled = flo_znimg.apply_transform(\n",
    "    Transform.affine_ras_from_txt('/local/SPIMquant_oznbranch/spimquant/results/sub-o28/warps/sub-o28_sample-brain_acq-prestitched_from-subject_to-ABAv3_type-ras_desc-affine_xfm.txt'),\n",
    "    ref_dimg=ref_slice)\n",
    "\n",
    "resampled.darr"
   ]
  },
  {
   "cell_type": "code",
   "execution_count": null,
   "id": "8d5fe730-b873-449e-bf39-15aa6fe0616a",
   "metadata": {},
   "outputs": [],
   "source": [
    "resampled.to_nifti('dg_downsampled.nii')"
   ]
  },
  {
   "cell_type": "markdown",
   "id": "29532434-fe55-4cb8-8a28-02dd3f331b34",
   "metadata": {},
   "source": [
    "### Zoomed reference\n",
    "If we want higher-res, we can use a reference with a zoomed in FOV. We don't want to actually resample the reference image, just the shape of it, so we make use of an alternative to `from_path()`, which is `from_path_as_ref()`, which uses an empty array instead of the actual data. "
   ]
  },
  {
   "cell_type": "code",
   "execution_count": null,
   "id": "3cdd1bd5-26e4-4981-a98c-f446c9172668",
   "metadata": {},
   "outputs": [],
   "source": [
    "ref_zoomed = ZarrNii.from_path_as_ref('/local/SPIMquant_oznbranch/spimquant/results/tpl-ABAv3/tpl-ABAv3_desc-LR_dseg.nii.gz',\n",
    "                                      zooms=(0.005,0.005,0.005))\n",
    "            \n"
   ]
  },
  {
   "cell_type": "code",
   "execution_count": null,
   "id": "3ba3eaef-831a-4e63-a08b-e096fbc6d24f",
   "metadata": {},
   "outputs": [],
   "source": []
  },
  {
   "cell_type": "code",
   "execution_count": null,
   "id": "8df091d6-6dbe-40a5-be0c-a9242784f4f6",
   "metadata": {},
   "outputs": [],
   "source": []
  },
  {
   "cell_type": "markdown",
   "id": "5611d7df-441f-4872-9aab-f77dc22c17bb",
   "metadata": {},
   "source": [
    "## Example simply writing downsampled NIFTI from OME-Zarr"
   ]
  },
  {
   "cell_type": "code",
   "execution_count": 10,
   "id": "6ae6fe2b-b7d4-46fc-ba80-610cd2548e9b",
   "metadata": {},
   "outputs": [],
   "source": [
    "from zarrnii import ZarrNii"
   ]
  },
  {
   "cell_type": "code",
   "execution_count": null,
   "id": "972ffa70-240b-4624-9e37-ae816da7004a",
   "metadata": {},
   "outputs": [],
   "source": [
    "#test out writing to nifti downsampled\n",
    "znimg_ds5 = (ZarrNii.from_path('/cifs/prado/Kate/AK_Pipeline_LSM/spimprep/bids/sub-o28/micr/sub-o28_sample-brain_acq-prestitched_SPIM.ome.zarr',\n",
    "                                 level=5,channels=[0])\n",
    "                .downsample_by_local_mean(ds_z=2**3) #same downsample rate as X and Y\n",
    "                .to_nifti('sub-o28_stain-PI_ds-5_SPIM.nii'))\n"
   ]
  },
  {
   "cell_type": "code",
   "execution_count": null,
   "id": "af7a072f-aecd-4634-8aa8-f196c2808dd6",
   "metadata": {},
   "outputs": [],
   "source": [
    "znimg_ds5 = (ZarrNii.from_path('/cifs/prado/Kate/AK_Pipeline_LSM/spimprep/bids/sub-o28/micr/sub-o28_sample-brain_acq-prestitched_SPIM.ome.zarr',\n",
    "                                 level=5,channels=[0])\n",
    "                .downsample_by_local_mean(ds_z=2**3)\n",
    "                .crop_with_bounding_box((4,6,1),(30,50,25))) #same downsample rate as X and Y\n",
    "znimg_ds5.vox2ras.affine\n"
   ]
  },
  {
   "cell_type": "code",
   "execution_count": null,
   "id": "af2ccf69-e6e5-4ad1-b636-6b89d95960e0",
   "metadata": {},
   "outputs": [],
   "source": [
    "znimg_ds5.to_ome_zarr('test_crop.ome.zarr')"
   ]
  },
  {
   "cell_type": "markdown",
   "id": "ecc37948-6607-44c3-889c-a2982b217f01",
   "metadata": {},
   "source": [
    "## Example writing cropped region to OME-zarr"
   ]
  },
  {
   "cell_type": "code",
   "execution_count": 22,
   "id": "0a66f140-1b49-42d6-9fd3-c19aa1a951c2",
   "metadata": {},
   "outputs": [
    {
     "name": "stderr",
     "output_type": "stream",
     "text": [
      "/local/scratch/pypoetry_venv/zarrnii-bN9WqXf7-py3.9/lib/python3.9/site-packages/distributed/client.py:3166: UserWarning: Sending large graph of size 179.46 MiB.\n",
      "This may cause some slowdown.\n",
      "Consider scattering data ahead of time and using futures.\n",
      "  warnings.warn(\n"
     ]
    },
    {
     "name": "stdout",
     "output_type": "stream",
     "text": [
      "{'scale': [1, 0.004, 0.0018, 0.0018], 'type': 'scale'}\n",
      "{'scale': [1, 0.004, 0.0018, 0.0018], 'type': 'scale'}\n"
     ]
    },
    {
     "data": {
      "text/html": [
       "<table>\n",
       "    <tr>\n",
       "        <td>\n",
       "            <table style=\"border-collapse: collapse;\">\n",
       "                <thead>\n",
       "                    <tr>\n",
       "                        <td> </td>\n",
       "                        <th> Array </th>\n",
       "                        <th> Chunk </th>\n",
       "                    </tr>\n",
       "                </thead>\n",
       "                <tbody>\n",
       "                    \n",
       "                    <tr>\n",
       "                        <th> Bytes </th>\n",
       "                        <td> 17.28 GiB </td>\n",
       "                        <td> 6.55 MiB </td>\n",
       "                    </tr>\n",
       "                    \n",
       "                    <tr>\n",
       "                        <th> Shape </th>\n",
       "                        <td> (2, 1040, 2112, 2112) </td>\n",
       "                        <td> (1, 1, 1952, 1760) </td>\n",
       "                    </tr>\n",
       "                    <tr>\n",
       "                        <th> Dask graph </th>\n",
       "                        <td colspan=\"2\"> 8320 chunks in 4 graph layers </td>\n",
       "                    </tr>\n",
       "                    <tr>\n",
       "                        <th> Data type </th>\n",
       "                        <td colspan=\"2\"> uint16 numpy.ndarray </td>\n",
       "                    </tr>\n",
       "                </tbody>\n",
       "            </table>\n",
       "        </td>\n",
       "        <td>\n",
       "        <svg width=\"394\" height=\"204\" style=\"stroke:rgb(0,0,0);stroke-width:1\" >\n",
       "\n",
       "  <!-- Horizontal lines -->\n",
       "  <line x1=\"0\" y1=\"0\" x2=\"25\" y2=\"0\" style=\"stroke-width:2\" />\n",
       "  <line x1=\"0\" y1=\"25\" x2=\"25\" y2=\"25\" style=\"stroke-width:2\" />\n",
       "\n",
       "  <!-- Vertical lines -->\n",
       "  <line x1=\"0\" y1=\"0\" x2=\"0\" y2=\"25\" style=\"stroke-width:2\" />\n",
       "  <line x1=\"12\" y1=\"0\" x2=\"12\" y2=\"25\" />\n",
       "  <line x1=\"25\" y1=\"0\" x2=\"25\" y2=\"25\" style=\"stroke-width:2\" />\n",
       "\n",
       "  <!-- Colored Rectangle -->\n",
       "  <polygon points=\"0.0,0.0 25.412616514582485,0.0 25.412616514582485,25.412616514582485 0.0,25.412616514582485\" style=\"fill:#ECB172A0;stroke-width:0\"/>\n",
       "\n",
       "  <!-- Text -->\n",
       "  <text x=\"12.706308\" y=\"45.412617\" font-size=\"1.0rem\" font-weight=\"100\" text-anchor=\"middle\" >2</text>\n",
       "  <text x=\"45.412617\" y=\"12.706308\" font-size=\"1.0rem\" font-weight=\"100\" text-anchor=\"middle\" transform=\"rotate(0,45.412617,12.706308)\">1</text>\n",
       "\n",
       "\n",
       "  <!-- Horizontal lines -->\n",
       "  <line x1=\"95\" y1=\"0\" x2=\"129\" y2=\"34\" style=\"stroke-width:2\" />\n",
       "  <line x1=\"95\" y1=\"9\" x2=\"129\" y2=\"43\" />\n",
       "  <line x1=\"95\" y1=\"120\" x2=\"129\" y2=\"154\" style=\"stroke-width:2\" />\n",
       "\n",
       "  <!-- Vertical lines -->\n",
       "  <line x1=\"95\" y1=\"0\" x2=\"95\" y2=\"120\" style=\"stroke-width:2\" />\n",
       "  <line x1=\"96\" y1=\"1\" x2=\"96\" y2=\"121\" />\n",
       "  <line x1=\"97\" y1=\"2\" x2=\"97\" y2=\"122\" />\n",
       "  <line x1=\"98\" y1=\"3\" x2=\"98\" y2=\"123\" />\n",
       "  <line x1=\"99\" y1=\"4\" x2=\"99\" y2=\"124\" />\n",
       "  <line x1=\"100\" y1=\"5\" x2=\"100\" y2=\"125\" />\n",
       "  <line x1=\"101\" y1=\"6\" x2=\"101\" y2=\"126\" />\n",
       "  <line x1=\"102\" y1=\"7\" x2=\"102\" y2=\"127\" />\n",
       "  <line x1=\"103\" y1=\"8\" x2=\"103\" y2=\"128\" />\n",
       "  <line x1=\"104\" y1=\"9\" x2=\"104\" y2=\"129\" />\n",
       "  <line x1=\"105\" y1=\"10\" x2=\"105\" y2=\"130\" />\n",
       "  <line x1=\"106\" y1=\"11\" x2=\"106\" y2=\"131\" />\n",
       "  <line x1=\"108\" y1=\"13\" x2=\"108\" y2=\"133\" />\n",
       "  <line x1=\"109\" y1=\"14\" x2=\"109\" y2=\"134\" />\n",
       "  <line x1=\"110\" y1=\"15\" x2=\"110\" y2=\"135\" />\n",
       "  <line x1=\"111\" y1=\"16\" x2=\"111\" y2=\"136\" />\n",
       "  <line x1=\"112\" y1=\"17\" x2=\"112\" y2=\"137\" />\n",
       "  <line x1=\"113\" y1=\"18\" x2=\"113\" y2=\"138\" />\n",
       "  <line x1=\"114\" y1=\"19\" x2=\"114\" y2=\"139\" />\n",
       "  <line x1=\"115\" y1=\"20\" x2=\"115\" y2=\"140\" />\n",
       "  <line x1=\"116\" y1=\"21\" x2=\"116\" y2=\"141\" />\n",
       "  <line x1=\"117\" y1=\"22\" x2=\"117\" y2=\"142\" />\n",
       "  <line x1=\"118\" y1=\"23\" x2=\"118\" y2=\"143\" />\n",
       "  <line x1=\"119\" y1=\"24\" x2=\"119\" y2=\"144\" />\n",
       "  <line x1=\"121\" y1=\"26\" x2=\"121\" y2=\"146\" />\n",
       "  <line x1=\"122\" y1=\"27\" x2=\"122\" y2=\"147\" />\n",
       "  <line x1=\"123\" y1=\"28\" x2=\"123\" y2=\"148\" />\n",
       "  <line x1=\"124\" y1=\"29\" x2=\"124\" y2=\"149\" />\n",
       "  <line x1=\"125\" y1=\"30\" x2=\"125\" y2=\"150\" />\n",
       "  <line x1=\"126\" y1=\"31\" x2=\"126\" y2=\"151\" />\n",
       "  <line x1=\"127\" y1=\"32\" x2=\"127\" y2=\"152\" />\n",
       "  <line x1=\"128\" y1=\"33\" x2=\"128\" y2=\"153\" />\n",
       "  <line x1=\"129\" y1=\"34\" x2=\"129\" y2=\"154\" style=\"stroke-width:2\" />\n",
       "\n",
       "  <!-- Colored Rectangle -->\n",
       "  <polygon points=\"95.0,0.0 129.75935828877004,34.75935828877006 129.75935828877004,154.75935828877004 95.0,120.0\" style=\"fill:#8B4903A0;stroke-width:0\"/>\n",
       "\n",
       "  <!-- Horizontal lines -->\n",
       "  <line x1=\"95\" y1=\"0\" x2=\"215\" y2=\"0\" style=\"stroke-width:2\" />\n",
       "  <line x1=\"96\" y1=\"1\" x2=\"216\" y2=\"1\" />\n",
       "  <line x1=\"97\" y1=\"2\" x2=\"217\" y2=\"2\" />\n",
       "  <line x1=\"98\" y1=\"3\" x2=\"218\" y2=\"3\" />\n",
       "  <line x1=\"99\" y1=\"4\" x2=\"219\" y2=\"4\" />\n",
       "  <line x1=\"100\" y1=\"5\" x2=\"220\" y2=\"5\" />\n",
       "  <line x1=\"101\" y1=\"6\" x2=\"221\" y2=\"6\" />\n",
       "  <line x1=\"102\" y1=\"7\" x2=\"222\" y2=\"7\" />\n",
       "  <line x1=\"103\" y1=\"8\" x2=\"223\" y2=\"8\" />\n",
       "  <line x1=\"104\" y1=\"9\" x2=\"224\" y2=\"9\" />\n",
       "  <line x1=\"105\" y1=\"10\" x2=\"225\" y2=\"10\" />\n",
       "  <line x1=\"106\" y1=\"11\" x2=\"226\" y2=\"11\" />\n",
       "  <line x1=\"108\" y1=\"13\" x2=\"228\" y2=\"13\" />\n",
       "  <line x1=\"109\" y1=\"14\" x2=\"229\" y2=\"14\" />\n",
       "  <line x1=\"110\" y1=\"15\" x2=\"230\" y2=\"15\" />\n",
       "  <line x1=\"111\" y1=\"16\" x2=\"231\" y2=\"16\" />\n",
       "  <line x1=\"112\" y1=\"17\" x2=\"232\" y2=\"17\" />\n",
       "  <line x1=\"113\" y1=\"18\" x2=\"233\" y2=\"18\" />\n",
       "  <line x1=\"114\" y1=\"19\" x2=\"234\" y2=\"19\" />\n",
       "  <line x1=\"115\" y1=\"20\" x2=\"235\" y2=\"20\" />\n",
       "  <line x1=\"116\" y1=\"21\" x2=\"236\" y2=\"21\" />\n",
       "  <line x1=\"117\" y1=\"22\" x2=\"237\" y2=\"22\" />\n",
       "  <line x1=\"118\" y1=\"23\" x2=\"238\" y2=\"23\" />\n",
       "  <line x1=\"119\" y1=\"24\" x2=\"239\" y2=\"24\" />\n",
       "  <line x1=\"121\" y1=\"26\" x2=\"241\" y2=\"26\" />\n",
       "  <line x1=\"122\" y1=\"27\" x2=\"242\" y2=\"27\" />\n",
       "  <line x1=\"123\" y1=\"28\" x2=\"243\" y2=\"28\" />\n",
       "  <line x1=\"124\" y1=\"29\" x2=\"244\" y2=\"29\" />\n",
       "  <line x1=\"125\" y1=\"30\" x2=\"245\" y2=\"30\" />\n",
       "  <line x1=\"126\" y1=\"31\" x2=\"246\" y2=\"31\" />\n",
       "  <line x1=\"127\" y1=\"32\" x2=\"247\" y2=\"32\" />\n",
       "  <line x1=\"128\" y1=\"33\" x2=\"248\" y2=\"33\" />\n",
       "  <line x1=\"129\" y1=\"34\" x2=\"249\" y2=\"34\" style=\"stroke-width:2\" />\n",
       "\n",
       "  <!-- Vertical lines -->\n",
       "  <line x1=\"95\" y1=\"0\" x2=\"129\" y2=\"34\" style=\"stroke-width:2\" />\n",
       "  <line x1=\"115\" y1=\"0\" x2=\"149\" y2=\"34\" />\n",
       "  <line x1=\"215\" y1=\"0\" x2=\"249\" y2=\"34\" style=\"stroke-width:2\" />\n",
       "\n",
       "  <!-- Colored Rectangle -->\n",
       "  <polygon points=\"95.0,0.0 215.0,0.0 249.75935828877004,34.75935828877006 129.75935828877004,34.75935828877006\" style=\"fill:#8B4903A0;stroke-width:0\"/>\n",
       "\n",
       "  <!-- Horizontal lines -->\n",
       "  <line x1=\"129\" y1=\"34\" x2=\"249\" y2=\"34\" style=\"stroke-width:2\" />\n",
       "  <line x1=\"129\" y1=\"43\" x2=\"249\" y2=\"43\" />\n",
       "  <line x1=\"129\" y1=\"154\" x2=\"249\" y2=\"154\" style=\"stroke-width:2\" />\n",
       "\n",
       "  <!-- Vertical lines -->\n",
       "  <line x1=\"129\" y1=\"34\" x2=\"129\" y2=\"154\" style=\"stroke-width:2\" />\n",
       "  <line x1=\"149\" y1=\"34\" x2=\"149\" y2=\"154\" />\n",
       "  <line x1=\"249\" y1=\"34\" x2=\"249\" y2=\"154\" style=\"stroke-width:2\" />\n",
       "\n",
       "  <!-- Colored Rectangle -->\n",
       "  <polygon points=\"129.75935828877004,34.75935828877006 249.75935828877004,34.75935828877006 249.75935828877004,154.75935828877004 129.75935828877004,154.75935828877004\" style=\"fill:#ECB172A0;stroke-width:0\"/>\n",
       "\n",
       "  <!-- Text -->\n",
       "  <text x=\"189.759358\" y=\"174.759358\" font-size=\"1.0rem\" font-weight=\"100\" text-anchor=\"middle\" >2112</text>\n",
       "  <text x=\"269.759358\" y=\"94.759358\" font-size=\"1.0rem\" font-weight=\"100\" text-anchor=\"middle\" transform=\"rotate(-90,269.759358,94.759358)\">2112</text>\n",
       "  <text x=\"102.379679\" y=\"157.379679\" font-size=\"1.0rem\" font-weight=\"100\" text-anchor=\"middle\" transform=\"rotate(45,102.379679,157.379679)\">1040</text>\n",
       "</svg>\n",
       "        </td>\n",
       "    </tr>\n",
       "</table>"
      ],
      "text/plain": [
       "dask.array<getitem, shape=(2, 1040, 2112, 2112), dtype=uint16, chunksize=(1, 1, 1952, 1760), chunktype=numpy.ndarray>"
      ]
     },
     "execution_count": 22,
     "metadata": {},
     "output_type": "execute_result"
    }
   ],
   "source": [
    "#have ABAv3 already registered to subject, but in a downsampled space\n",
    "#we can use this to get a bounding box, and specify it to be in RAS coordinates \n",
    "#so it can be used on the full res OME-Zarr\n",
    "subj_dseg='/local/SPIMquant_oznbranch/spimquant/results/sub-o28/micr/sub-o28_sample-brain_acq-prestitched_from-ABAv3_level-5_desc-deform_dseg.nii.gz'\n",
    "(bbox_min, bbox_max) = (ZarrNii.from_path(subj_dseg)\n",
    "                            .get_bounding_box_around_label(476,ras_coords=True))\n",
    "\n",
    "#here, we crop with the bbox\n",
    "znimg_crop_dg = (ZarrNii.from_path('/cifs/prado/Kate/AK_Pipeline_LSM/spimprep/bids/sub-o28/micr/sub-o28_sample-brain_acq-prestitched_SPIM.ome.zarr',\n",
    "                                   level=0,channels=[0,1])\n",
    "                        .crop_with_bounding_box(bbox_min,bbox_max,ras_coords=True))\n",
    "znimg_crop_dg.darr\n",
    "                "
   ]
  },
  {
   "cell_type": "markdown",
   "id": "66eca8d1-7993-436f-88d3-5e1379f29654",
   "metadata": {},
   "source": [
    "**Note:** This runs very fast, because it is not actually doing the computation yet. Any operation you perform on Dask arrays is **lazy**, meaning that it does not compute until you explicitly tell it to, with `compute()`. At that point it then runs everything, parallelizing where possible."
   ]
  },
  {
   "cell_type": "code",
   "execution_count": 37,
   "id": "a8d2cb0f-334b-45ec-8257-68be597a77df",
   "metadata": {},
   "outputs": [],
   "source": [
    "# the image is still pretty big, so lets just grab a single slice and visualize it\n",
    "\n",
    "dg_slice = (znimg_crop_dg\n",
    "            .crop_with_bounding_box((500,0,0),(501,2112,2112)))\n",
    "\n",
    "dg_slice_channels = dg_slice.darr.compute()"
   ]
  },
  {
   "cell_type": "code",
   "execution_count": 38,
   "id": "0c477f62-4757-439b-9594-6338d73b4be4",
   "metadata": {},
   "outputs": [
    {
     "data": {
      "text/plain": [
       "<matplotlib.image.AxesImage at 0x7fe27f5498b0>"
      ]
     },
     "execution_count": 38,
     "metadata": {},
     "output_type": "execute_result"
    },
    {
     "data": {
      "image/png": "[encoded data removed]",
      "text/plain": [
       "<Figure size 640x480 with 2 Axes>"
      ]
     },
     "metadata": {},
     "output_type": "display_data"
    }
   ],
   "source": [
    "import matplotlib.pyplot as plt\n",
    "plt.subplot(2,1,1)\n",
    "plt.imshow(dg_slice_channels[0,:,:,:].squeeze(),clim=(0,1000))\n",
    "plt.subplot(2,1,2)\n",
    "plt.imshow(dg_slice_channels[1,:,:,:].squeeze(),clim=(0,1000))"
   ]
  },
  {
   "cell_type": "code",
   "execution_count": null,
   "id": "62c63477-f834-448f-b97b-1a349d85e635",
   "metadata": {},
   "outputs": [
    {
     "name": "stdout",
     "output_type": "stream",
     "text": [
      "affine_zarr\n",
      "[[4.0000e-03 0.0000e+00 0.0000e+00 2.1760e+00]\n",
      " [0.0000e+00 1.8000e-03 0.0000e+00 7.0848e+00]\n",
      " [0.0000e+00 0.0000e+00 1.8000e-03 6.7392e+00]\n",
      " [0.0000e+00 0.0000e+00 0.0000e+00 1.0000e+00]]\n",
      "[0.004  0.0018 0.0018]\n",
      "[-6.7392 -7.0848 -2.176 ]\n"
     ]
    }
   ],
   "source": [
    "#we can also save the entire crop-volume to a new OME-Zarr file:\n",
    "znimg_crop_dg.to_ome_zarr('dg_cropped.ome.zarr')\n",
    "\n",
    "#Note: this automatically computes a multi-resolution pyramid when saving the data"
   ]
  }
 ],
 "metadata": {
  "kernelspec": {
   "display_name": "Python 3 (ipykernel)",
   "language": "python",
   "name": "python3"
  },
  "language_info": {
   "codemirror_mode": {
    "name": "ipython",
    "version": 3
   },
   "file_extension": ".py",
   "mimetype": "text/x-python",
   "name": "python",
   "nbconvert_exporter": "python",
   "pygments_lexer": "ipython3",
   "version": "3.9.18"
  }
 },
 "nbformat": 4,
 "nbformat_minor": 5
}
